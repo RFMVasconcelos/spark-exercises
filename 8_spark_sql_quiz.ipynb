{
 "cells": [
  {
   "cell_type": "markdown",
   "metadata": {},
   "source": [
    "# Data Wrangling with Spark SQL Quiz\n",
    "\n",
    "This quiz uses the same dataset and most of the same questions from the earlier \"Quiz - Data Wrangling with Data Frames Jupyter Notebook.\" For this quiz, however, use Spark SQL instead of Spark Data Frames."
   ]
  },
  {
   "cell_type": "code",
   "execution_count": 3,
   "metadata": {},
   "outputs": [],
   "source": [
    "from pyspark.sql import SparkSession\n",
    "\n",
    "# TODOS: \n",
    "# 1) import any other libraries you might need\n",
    "\n",
    "\n",
    "# 2) instantiate a Spark session \n",
    "spark = SparkSession.builder.appName(\"Spark Data Quiz\").getOrCreate()\n",
    "\n",
    "# 3) read in the data set located at the path \"data/sparkify_log_small.json\"\n",
    "spark_df = spark.read.json(\"data/sparkify_log_small.json\")\n",
    "\n",
    "# 4) create a view to use with your SQL queries\n",
    "spark_df.createOrReplaceTempView(\"logs\")"
   ]
  },
  {
   "cell_type": "markdown",
   "metadata": {},
   "source": [
    "# Question 1\n",
    "\n",
    "Which page did user id \"\"(empty string) NOT visit?"
   ]
  },
  {
   "cell_type": "code",
   "execution_count": 17,
   "metadata": {},
   "outputs": [
    {
     "name": "stdout",
     "output_type": "stream",
     "text": [
      "+-----+\n",
      "| page|\n",
      "+-----+\n",
      "|About|\n",
      "| Help|\n",
      "| Home|\n",
      "|Login|\n",
      "+-----+\n",
      "\n"
     ]
    }
   ],
   "source": [
    "# Pages that userId = \"\" visited\n",
    "spark.sql(\n",
    "    \"\"\"\n",
    "    SELECT DISTINCT page \n",
    "    FROM logs\n",
    "    WHERE userId == \"\"\n",
    "    ORDER BY page asc\n",
    "    \"\"\").show()"
   ]
  },
  {
   "cell_type": "code",
   "execution_count": 18,
   "metadata": {
    "scrolled": true
   },
   "outputs": [
    {
     "name": "stdout",
     "output_type": "stream",
     "text": [
      "+----------------+\n",
      "|            page|\n",
      "+----------------+\n",
      "|           About|\n",
      "|       Downgrade|\n",
      "|           Error|\n",
      "|            Help|\n",
      "|            Home|\n",
      "|           Login|\n",
      "|          Logout|\n",
      "|        NextSong|\n",
      "|   Save Settings|\n",
      "|        Settings|\n",
      "|Submit Downgrade|\n",
      "|  Submit Upgrade|\n",
      "|         Upgrade|\n",
      "+----------------+\n",
      "\n"
     ]
    }
   ],
   "source": [
    "# All pages\n",
    "spark.sql(\n",
    "    \"\"\"\n",
    "    SELECT DISTINCT page \n",
    "    FROM logs\n",
    "    ORDER BY page asc\n",
    "    \"\"\").show()"
   ]
  },
  {
   "cell_type": "code",
   "execution_count": 27,
   "metadata": {},
   "outputs": [
    {
     "data": {
      "text/plain": [
       "[Row(page='Downgrade'),\n",
       " Row(page='Error'),\n",
       " Row(page='Logout'),\n",
       " Row(page='NextSong'),\n",
       " Row(page='Save Settings'),\n",
       " Row(page='Settings'),\n",
       " Row(page='Submit Downgrade'),\n",
       " Row(page='Submit Upgrade'),\n",
       " Row(page='Upgrade')]"
      ]
     },
     "execution_count": 27,
     "metadata": {},
     "output_type": "execute_result"
    }
   ],
   "source": [
    "# All pages EXCEPT the pages that userId = \"\" visited \n",
    "unseen_pages = spark.sql(\n",
    "    \"\"\"\n",
    "    SELECT DISTINCT page \n",
    "    FROM  logs\n",
    "    WHERE page NOT IN\n",
    "          (\n",
    "           SELECT DISTINCT page \n",
    "           FROM logs \n",
    "           WHERE userId == \"\")\n",
    "    ORDER BY page asc\n",
    "    \"\"\")\n",
    "unseen_pages.collect()"
   ]
  },
  {
   "cell_type": "code",
   "execution_count": 28,
   "metadata": {},
   "outputs": [
    {
     "name": "stdout",
     "output_type": "stream",
     "text": [
      "               page\n",
      "0         Downgrade\n",
      "1             Error\n",
      "2            Logout\n",
      "3          NextSong\n",
      "4     Save Settings\n",
      "5          Settings\n",
      "6  Submit Downgrade\n",
      "7    Submit Upgrade\n",
      "8           Upgrade\n"
     ]
    }
   ],
   "source": [
    "pages_df = unseen_pages.toPandas()\n",
    "print(pages_df)"
   ]
  },
  {
   "cell_type": "markdown",
   "metadata": {},
   "source": [
    "# Question 2 - Reflect\n",
    "\n",
    "Why might you prefer to use SQL over data frames? Why might you prefer data frames over SQL?"
   ]
  },
  {
   "cell_type": "markdown",
   "metadata": {},
   "source": [
    "SQL is great for queries. It was a lot easier to get to the right not seen pages via a sub-query than by substracting results using python functions. \n",
    "\n",
    "It was easier to learn SQL than figuring out the best python function for a specific use-case.\n",
    "\n",
    "SQL might be a bit more verbose for simple queries, where a simple python function suffices. "
   ]
  },
  {
   "cell_type": "markdown",
   "metadata": {},
   "source": [
    "# Question 3\n",
    "\n",
    "How many female users do we have in the data set?"
   ]
  },
  {
   "cell_type": "code",
   "execution_count": 36,
   "metadata": {},
   "outputs": [
    {
     "data": {
      "text/plain": [
       "462"
      ]
     },
     "execution_count": 36,
     "metadata": {},
     "output_type": "execute_result"
    }
   ],
   "source": [
    "females = spark.sql(\"\"\"\n",
    "                        SELECT DISTINCT userId \n",
    "                        FROM logs \n",
    "                        WHERE gender = 'F'\n",
    "                    \"\"\").count()\n",
    "females"
   ]
  },
  {
   "cell_type": "markdown",
   "metadata": {},
   "source": [
    "# Question 4\n",
    "\n",
    "How many songs were played from the most played artist?"
   ]
  },
  {
   "cell_type": "code",
   "execution_count": 50,
   "metadata": {},
   "outputs": [
    {
     "data": {
      "text/html": [
       "<div>\n",
       "<style scoped>\n",
       "    .dataframe tbody tr th:only-of-type {\n",
       "        vertical-align: middle;\n",
       "    }\n",
       "\n",
       "    .dataframe tbody tr th {\n",
       "        vertical-align: top;\n",
       "    }\n",
       "\n",
       "    .dataframe thead th {\n",
       "        text-align: right;\n",
       "    }\n",
       "</style>\n",
       "<table border=\"1\" class=\"dataframe\">\n",
       "  <thead>\n",
       "    <tr style=\"text-align: right;\">\n",
       "      <th></th>\n",
       "      <th>artist</th>\n",
       "      <th>plays</th>\n",
       "    </tr>\n",
       "  </thead>\n",
       "  <tbody>\n",
       "    <tr>\n",
       "      <th>0</th>\n",
       "      <td>Coldplay</td>\n",
       "      <td>83</td>\n",
       "    </tr>\n",
       "  </tbody>\n",
       "</table>\n",
       "</div>"
      ],
      "text/plain": [
       "     artist  plays\n",
       "0  Coldplay     83"
      ]
     },
     "execution_count": 50,
     "metadata": {},
     "output_type": "execute_result"
    }
   ],
   "source": [
    "rockstar = spark.sql(\"\"\"\n",
    "                        SELECT artist, COUNT(ts) as plays\n",
    "                        FROM logs\n",
    "                        WHERE page = \"NextSong\"\n",
    "                        GROUP BY artist\n",
    "                        ORDER BY plays desc\n",
    "                        LIMIT 1\n",
    "                     \"\"\")\n",
    "df = rockstar.toPandas()\n",
    "df"
   ]
  },
  {
   "cell_type": "markdown",
   "metadata": {},
   "source": [
    "# Question 5 (challenge)\n",
    "\n",
    "How many songs do users listen to on average between visiting our home page? Please round your answer to the closest integer."
   ]
  },
  {
   "cell_type": "code",
   "execution_count": 68,
   "metadata": {},
   "outputs": [
    {
     "data": {
      "text/html": [
       "<div>\n",
       "<style scoped>\n",
       "    .dataframe tbody tr th:only-of-type {\n",
       "        vertical-align: middle;\n",
       "    }\n",
       "\n",
       "    .dataframe tbody tr th {\n",
       "        vertical-align: top;\n",
       "    }\n",
       "\n",
       "    .dataframe thead th {\n",
       "        text-align: right;\n",
       "    }\n",
       "</style>\n",
       "<table border=\"1\" class=\"dataframe\">\n",
       "  <thead>\n",
       "    <tr style=\"text-align: right;\">\n",
       "      <th></th>\n",
       "      <th>userId</th>\n",
       "      <th>page</th>\n",
       "    </tr>\n",
       "  </thead>\n",
       "  <tbody>\n",
       "    <tr>\n",
       "      <th>0</th>\n",
       "      <td>1046</td>\n",
       "      <td>NextSong</td>\n",
       "    </tr>\n",
       "    <tr>\n",
       "      <th>1</th>\n",
       "      <td>1000</td>\n",
       "      <td>NextSong</td>\n",
       "    </tr>\n",
       "    <tr>\n",
       "      <th>2</th>\n",
       "      <td>2219</td>\n",
       "      <td>NextSong</td>\n",
       "    </tr>\n",
       "    <tr>\n",
       "      <th>3</th>\n",
       "      <td>2373</td>\n",
       "      <td>NextSong</td>\n",
       "    </tr>\n",
       "    <tr>\n",
       "      <th>4</th>\n",
       "      <td>1747</td>\n",
       "      <td>Home</td>\n",
       "    </tr>\n",
       "    <tr>\n",
       "      <th>5</th>\n",
       "      <td>1162</td>\n",
       "      <td>NextSong</td>\n",
       "    </tr>\n",
       "    <tr>\n",
       "      <th>6</th>\n",
       "      <td>748</td>\n",
       "      <td>Home</td>\n",
       "    </tr>\n",
       "    <tr>\n",
       "      <th>7</th>\n",
       "      <td>1061</td>\n",
       "      <td>NextSong</td>\n",
       "    </tr>\n",
       "    <tr>\n",
       "      <th>8</th>\n",
       "      <td>597</td>\n",
       "      <td>Home</td>\n",
       "    </tr>\n",
       "    <tr>\n",
       "      <th>9</th>\n",
       "      <td>1806</td>\n",
       "      <td>NextSong</td>\n",
       "    </tr>\n",
       "  </tbody>\n",
       "</table>\n",
       "</div>"
      ],
      "text/plain": [
       "  userId      page\n",
       "0   1046  NextSong\n",
       "1   1000  NextSong\n",
       "2   2219  NextSong\n",
       "3   2373  NextSong\n",
       "4   1747      Home\n",
       "5   1162  NextSong\n",
       "6    748      Home\n",
       "7   1061  NextSong\n",
       "8    597      Home\n",
       "9   1806  NextSong"
      ]
     },
     "execution_count": 68,
     "metadata": {},
     "output_type": "execute_result"
    }
   ],
   "source": [
    "avg_songs_btw_home = spark.sql(\"\"\"\n",
    "                                   SELECT userId, page\n",
    "                                   FROM logs\n",
    "                                   WHERE page = 'Home' OR page = 'NextSong'\n",
    "                                   ORDER BY ts asc\n",
    "                                   LIMIT 10\n",
    "                               \"\"\")\n",
    "df = avg_songs_btw_home.toPandas()\n",
    "df"
   ]
  },
  {
   "cell_type": "code",
   "execution_count": null,
   "metadata": {},
   "outputs": [],
   "source": [
    "avg_songs_btw_home = spark.sql(\"\"\"\n",
    "                                   SELECT userId, page\n",
    "                                   FROM logs\n",
    "                                   WHERE page = 'Home' OR page = 'NextSong'\n",
    "                                   ORDER BY ts\n",
    "                                   LIMIT 10\n",
    "                               \"\"\")\n",
    "df = avg_songs_btw_home.toPandas()\n",
    "df"
   ]
  }
 ],
 "metadata": {
  "kernelspec": {
   "display_name": "Python 3",
   "language": "python",
   "name": "python3"
  },
  "language_info": {
   "codemirror_mode": {
    "name": "ipython",
    "version": 3
   },
   "file_extension": ".py",
   "mimetype": "text/x-python",
   "name": "python",
   "nbconvert_exporter": "python",
   "pygments_lexer": "ipython3",
   "version": "3.6.3"
  }
 },
 "nbformat": 4,
 "nbformat_minor": 2
}
